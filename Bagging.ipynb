{
  "nbformat": 4,
  "nbformat_minor": 0,
  "metadata": {
    "colab": {
      "name": "Bagging.ipynb",
      "provenance": [],
      "authorship_tag": "ABX9TyOXSIp33vP7gYbUGHOQeSCK",
      "include_colab_link": true
    },
    "kernelspec": {
      "name": "python3",
      "display_name": "Python 3"
    }
  },
  "cells": [
    {
      "cell_type": "markdown",
      "metadata": {
        "id": "view-in-github",
        "colab_type": "text"
      },
      "source": [
        "<a href=\"https://colab.research.google.com/github/rposhala/Decision-Tree-Algorithm-and-Bagging-Concepts-using-Python/blob/master/Bagging.ipynb\" target=\"_parent\"><img src=\"https://colab.research.google.com/assets/colab-badge.svg\" alt=\"Open In Colab\"/></a>"
      ]
    },
    {
      "cell_type": "markdown",
      "metadata": {
        "id": "GSIQEuTSaJUl",
        "colab_type": "text"
      },
      "source": [
        "This code picks attributes which are to be considered for this split randomly, so can be implemented upon any code(mainly on decision tree to get random forest kind of solution) to get bootstrapped random forest functionality results( which can yeild better results than the original single method). If all attributes are considered while splitting a node then this algorithm imitates Bagging functionality"
      ]
    },
    {
      "cell_type": "code",
      "metadata": {
        "id": "DP6mVdftUZX6",
        "colab_type": "code",
        "colab": {}
      },
      "source": [
        "#loading libraries\n",
        "import numpy as np\n",
        "import pandas as pd\n",
        "from pprint import pprint"
      ],
      "execution_count": 0,
      "outputs": []
    },
    {
      "cell_type": "markdown",
      "metadata": {
        "id": "jyYGpCVoZ8FB",
        "colab_type": "text"
      },
      "source": [
        "Creating multiple datasets randomly for existing dataset using bootstrap method"
      ]
    },
    {
      "cell_type": "code",
      "metadata": {
        "id": "qRWhwo4CUI_o",
        "colab_type": "code",
        "colab": {}
      },
      "source": [
        "## bootstrapping the datasets to generate multiple decision trees \n",
        "def bootstrap_decision_tree(df):\n",
        "    list_bootstrapped_tree = []\n",
        "    n = 15 ## number of bootstrapped datasets need to be created\n",
        "    for i in range(n):\n",
        "        index = np.random.choice(len(df),len(df),replace=True)\n",
        "        list_bootstrapped_tree.append(decisiontree(df[index]))\n",
        "    return list_bootstrapped_tree\n",
        "\n"
      ],
      "execution_count": 0,
      "outputs": []
    },
    {
      "cell_type": "markdown",
      "metadata": {
        "id": "ze2C-GtOa5EE",
        "colab_type": "text"
      },
      "source": [
        "Function to pass a test sample is being passed through the decision tree and label is assigned"
      ]
    },
    {
      "cell_type": "code",
      "metadata": {
        "id": "0ZGSSfdoUVq6",
        "colab_type": "code",
        "colab": {}
      },
      "source": [
        "## test sample is being passed through the decision tree and label is assigned\n",
        "def classify(test_sample,tree):\n",
        "    condition = list(tree.keys())[0]\n",
        "    column_number = condition.split()[0]\n",
        "    value = condition.split()[2]\n",
        "    if test_sample[int(column_number)] <= float(value):\n",
        "        label = tree[condition][0]\n",
        "    else :\n",
        "        label = tree[condition][1]\n",
        "    if type(label) == dict:\n",
        "        sub_tree = label\n",
        "        return classify(test_sample,sub_tree)\n",
        "    else :\n",
        "        return label\n"
      ],
      "execution_count": 0,
      "outputs": []
    },
    {
      "cell_type": "markdown",
      "metadata": {
        "id": "RP0BqYzla8FO",
        "colab_type": "text"
      },
      "source": [
        "Function to assign labels for a entire test data"
      ]
    },
    {
      "cell_type": "code",
      "metadata": {
        "id": "coJpDHSyUOrf",
        "colab_type": "code",
        "colab": {}
      },
      "source": [
        "## label for a test sample is picked based on majority among the labels generated from bootstrapped decision trees for that test sample\n",
        "def predict(x_test,list_bootstrapped_tree):\n",
        "    y_pred = []#np.asarray([])\n",
        "    for test in x_test:\n",
        "        label_list = []\n",
        "        for i in list_bootstrapped_tree:\n",
        "            label_list.append(classify(test,i))\n",
        "        unique_labels,count = np.unique(label_list,return_counts=True)\n",
        "        y_pred.append(unique_labels[np.argmax(count)])\n",
        "    return y_pred"
      ],
      "execution_count": 0,
      "outputs": []
    }
  ]
}
