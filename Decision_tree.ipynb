{
  "nbformat": 4,
  "nbformat_minor": 0,
  "metadata": {
    "colab": {
      "name": "Decision_tree.ipynb",
      "provenance": [],
      "authorship_tag": "ABX9TyMPm/Gekgga8I24i3oASXZo",
      "include_colab_link": true
    },
    "kernelspec": {
      "name": "python3",
      "display_name": "Python 3"
    }
  },
  "cells": [
    {
      "cell_type": "markdown",
      "metadata": {
        "id": "view-in-github",
        "colab_type": "text"
      },
      "source": [
        "<a href=\"https://colab.research.google.com/github/rposhala/Decision-Tree-Algorithm-and-Bagging-Concepts-using-Python/blob/master/Decision_tree.ipynb\" target=\"_parent\"><img src=\"https://colab.research.google.com/assets/colab-badge.svg\" alt=\"Open In Colab\"/></a>"
      ]
    },
    {
      "cell_type": "code",
      "metadata": {
        "id": "KAgP3VOaTrbv",
        "colab_type": "code",
        "colab": {}
      },
      "source": [
        "#loading libraries\n",
        "import numpy as np\n",
        "import pandas as pd\n",
        "from pprint import pprint"
      ],
      "execution_count": 0,
      "outputs": []
    },
    {
      "cell_type": "markdown",
      "metadata": {
        "id": "mWr9jpp7T4Ec",
        "colab_type": "text"
      },
      "source": [
        "# Decision Tree algorithm using NumPy"
      ]
    },
    {
      "cell_type": "markdown",
      "metadata": {
        "id": "3L1TofQFUz1J",
        "colab_type": "text"
      },
      "source": [
        "# Function to calculate gini index"
      ]
    },
    {
      "cell_type": "code",
      "metadata": {
        "id": "FWJSaGHmUkVl",
        "colab_type": "code",
        "colab": {}
      },
      "source": [
        "def gini(df):\n",
        "        x_unique,x_count = np.unique(df[:,-1], return_counts=True)\n",
        "        x_prob = x_count/np.sum(x_count)\n",
        "        x_gini = 1 - (np.dot(x_prob,x_prob))\n",
        "        return x_gini\n"
      ],
      "execution_count": 0,
      "outputs": []
    },
    {
      "cell_type": "markdown",
      "metadata": {
        "id": "z72L5Bn-U2PO",
        "colab_type": "text"
      },
      "source": [
        "# Function picks the best value to split the real valued attribute  "
      ]
    },
    {
      "cell_type": "code",
      "metadata": {
        "id": "Q_jhp4LQUkib",
        "colab_type": "code",
        "colab": {}
      },
      "source": [
        "def pick_the_value(df,n):\n",
        "        n_best = []\n",
        "        loss = 1000 # loss would not be more than 1 as gini is atmost 0.5\n",
        "        unique = np.sort(np.unique(df[:,n]))\n",
        "        split_values = [((unique[index]+unique[index-1])/2) for index in range(1,len(unique))]\n",
        "        if len(split_values) > 100 :\n",
        "            strip = list(range(1,100))\n",
        "            steps = np.ptp(df[:,n])/100\n",
        "            mini = np.min(df[:,n])\n",
        "            split_values = mini+(np.asarray(strip)*steps)\n",
        "\n",
        "        for i in split_values:\n",
        "            above = df[df[:,n] > i]\n",
        "            below = df[df[:,n] <= i] \n",
        "            a_gini = gini(above)\n",
        "            b_gini = gini(below)\n",
        "            a_len = len(above)\n",
        "            b_len = len(below)\n",
        "            current_loss = ((a_len/(a_len+b_len))*a_gini) + ((b_len/(a_len+b_len))*b_gini)\n",
        "            \n",
        "            if current_loss < loss:\n",
        "                loss = current_loss\n",
        "                n_best = [i,loss,above,below,n]\n",
        "        return n_best"
      ],
      "execution_count": 0,
      "outputs": []
    },
    {
      "cell_type": "markdown",
      "metadata": {
        "id": "SFQZkxUlU82P",
        "colab_type": "text"
      },
      "source": [
        "# Function to pick the best node(attribute) to split"
      ]
    },
    {
      "cell_type": "code",
      "metadata": {
        "id": "LJ4PN9QaUkqV",
        "colab_type": "code",
        "colab": {}
      },
      "source": [
        "def decision_node(df):\n",
        "        node_split = []\n",
        "        par_loss = 1000\n",
        "        col_no = df.shape[1] - 1\n",
        "        par_list = np.random.choice(col_no,int(np.floor(np.sqrt(col_no))),replace=False)\n",
        "        for i in par_list:\n",
        "            i_best = pick_the_value(df,i)\n",
        "\n",
        "            if len(i_best)!=0 :\n",
        "                if i_best[1] < par_loss:\n",
        "                    par_loss = i_best[1]\n",
        "                    node_split = i_best\n",
        "        return node_split\n"
      ],
      "execution_count": 0,
      "outputs": []
    },
    {
      "cell_type": "markdown",
      "metadata": {
        "id": "bOGHccP8VH7M",
        "colab_type": "text"
      },
      "source": [
        "# Decision Tree algorithm using the above functions (without pruning)"
      ]
    },
    {
      "cell_type": "code",
      "metadata": {
        "id": "LlZEyQesUkml",
        "colab_type": "code",
        "colab": {}
      },
      "source": [
        "#displaying the decision tree with tree pruning option (we can decide till which height the tree can go before stop, it decides the label based on the majority)\n",
        "    \n",
        "def decisiontree(df):\n",
        "        x_unique = np.unique(df[:,-1])\n",
        "        if len(x_unique) == 1:\n",
        "            return x_unique[0]\n",
        "        else :\n",
        "            # c+=1\n",
        "            split = decision_node(df)\n",
        "            col_no = split[4]\n",
        "            value = split[0]\n",
        "            df_above = split[2]\n",
        "            df_below = split[3]\n",
        "            condition = \"{} <= {}\".format(col_no,value)\n",
        "            decision_tree = {condition : []}\n",
        "            true = decisiontree(df_below)\n",
        "            false = decisiontree(df_above)\n",
        "\n",
        "            decision_tree[condition].append(true)\n",
        "            decision_tree[condition].append(false)\n",
        "\n",
        "            return decision_tree\n"
      ],
      "execution_count": 0,
      "outputs": []
    },
    {
      "cell_type": "markdown",
      "metadata": {
        "id": "FaYc8jbHVcSy",
        "colab_type": "text"
      },
      "source": [
        "# Decision Tree algorithm using the above functions (with pruning)"
      ]
    },
    {
      "cell_type": "code",
      "metadata": {
        "id": "jS39WfdIVchR",
        "colab_type": "code",
        "colab": {}
      },
      "source": [
        "def decisiontreeprune(df,c = 0, m = 3):\n",
        "        x_unique = np.unique(df[:,-1])\n",
        "        if len(x_unique) == 1 or c == m:\n",
        "            return x_unique[0]\n",
        "        else :\n",
        "            c+=1\n",
        "            split = decision_node(df)\n",
        "            col_no = split[4]\n",
        "            value = split[0]\n",
        "            df_above = split[2]\n",
        "            df_below = split[3]\n",
        "            condition = \"{} <= {}\".format(col_no,value)\n",
        "            decision_tree = {condition : []}\n",
        "            true = decisiontreeprune(df_below,c,m)\n",
        "            false = decisiontreeprune(df_above,c,m)\n",
        "\n",
        "            decision_tree[condition].append(true)\n",
        "            decision_tree[condition].append(false)\n",
        "\n",
        "            return decision_tree"
      ],
      "execution_count": 0,
      "outputs": []
    },
    {
      "cell_type": "markdown",
      "metadata": {
        "id": "gO9ltlLIX1aj",
        "colab_type": "text"
      },
      "source": [
        "# Function to pass a test sample is being passed through the decision tree and label is assigned"
      ]
    },
    {
      "cell_type": "code",
      "metadata": {
        "id": "_dCP2OxzX1l9",
        "colab_type": "code",
        "colab": {}
      },
      "source": [
        "## test sample is being passed through the decision tree and label is assigned\n",
        "    def classify(test_sample,tree):\n",
        "        condition = list(tree.keys())[0]\n",
        "        column_number = condition.split()[0]\n",
        "        value = condition.split()[2]\n",
        "        if test_sample[int(column_number)] <= float(value):\n",
        "            label = tree[condition][0]\n",
        "        else :\n",
        "            label = tree[condition][1]\n",
        "        if type(label) == dict:\n",
        "            sub_tree = label\n",
        "            return classify(test_sample,sub_tree)\n",
        "        else :\n",
        "            return label"
      ],
      "execution_count": 0,
      "outputs": []
    },
    {
      "cell_type": "markdown",
      "metadata": {
        "id": "6EAlI04gX97x",
        "colab_type": "text"
      },
      "source": [
        "# Function to assign labels for a entire test data"
      ]
    },
    {
      "cell_type": "code",
      "metadata": {
        "id": "FoshEYHsX-bq",
        "colab_type": "code",
        "colab": {}
      },
      "source": [
        "\n",
        "def predict(x_test,tree):\n",
        "    y_pred = []#np.asarray([])\n",
        "    for test in x_test:\n",
        "        y_pred.append(classify(test,tree))\n",
        "        \n",
        "    return y_pred"
      ],
      "execution_count": 0,
      "outputs": []
    },
    {
      "cell_type": "markdown",
      "metadata": {
        "id": "F9FPxNwjWGih",
        "colab_type": "text"
      },
      "source": [
        "Function defined to calculate Confusion Matrix"
      ]
    },
    {
      "cell_type": "code",
      "metadata": {
        "id": "JjKDKzi9WGv3",
        "colab_type": "code",
        "colab": {}
      },
      "source": [
        "def ConfusionMatrix(y_true,y_pred):\n",
        "    \n",
        "    \n",
        "    classes = 11\n",
        "    modified_list = ((y_true-1)*classes) + (y_pred-1)\n",
        "    squared_no_of_classes = classes**2\n",
        "    confusion_matrix = np.histogram(modified_list, bins=np.arange(squared_no_of_classes+1))[0]\n",
        "    confusion_matrix = confusion_matrix.reshape(classes,classes)\n",
        "    return confusion_matrix"
      ],
      "execution_count": 0,
      "outputs": []
    },
    {
      "cell_type": "markdown",
      "metadata": {
        "id": "ArUIxUBwWMtq",
        "colab_type": "text"
      },
      "source": [
        "# Function defined to calculate Accuracy"
      ]
    },
    {
      "cell_type": "code",
      "metadata": {
        "id": "3LZ9CW7DWPTg",
        "colab_type": "code",
        "colab": {}
      },
      "source": [
        "def Accuracy(y_true,y_pred):\n",
        "\n",
        "    nppred = np.asarray(y_pred)\n",
        "    c = y_true - nppred\n",
        "    misclass = np.count_nonzero(c)\n",
        "    test_len = len(y_true)\n",
        "    accuracy = 1 - (misclass/test_len)\n",
        "    return accuracy\n",
        "    "
      ],
      "execution_count": 0,
      "outputs": []
    },
    {
      "cell_type": "markdown",
      "metadata": {
        "id": "BYtYWOw4VqCZ",
        "colab_type": "text"
      },
      "source": [
        "Function defined to calculate Recall"
      ]
    },
    {
      "cell_type": "code",
      "metadata": {
        "id": "4_JCekRUWWEU",
        "colab_type": "code",
        "colab": {}
      },
      "source": [
        "def Recall(y_true,y_pred):\n",
        "\n",
        "    confusion_matrix = ConfusionMatrix(y_true,y_pred)\n",
        "    macro_recall = np.sum(np.divide(np.diag(confusion_matrix),np.sum(confusion_matrix,axis=1)))/len(confusion_matrix)\n",
        "    return macro_recall"
      ],
      "execution_count": 0,
      "outputs": []
    },
    {
      "cell_type": "markdown",
      "metadata": {
        "id": "QUXhD2wDWZlg",
        "colab_type": "text"
      },
      "source": [
        "Function defined to calculate Precision"
      ]
    },
    {
      "cell_type": "code",
      "metadata": {
        "id": "C793icw7WcXx",
        "colab_type": "code",
        "colab": {}
      },
      "source": [
        "\n",
        "def Precision(y_true,y_pred):\n",
        "\n",
        "    confusion_matrix = ConfusionMatrix(y_true,y_pred)\n",
        "    macro_precision = np.sum(np.divide(np.diag(confusion_matrix),np.sum(confusion_matrix,axis=0)))/len(confusion_matrix)\n",
        "    return macro_precision"
      ],
      "execution_count": 0,
      "outputs": []
    },
    {
      "cell_type": "markdown",
      "metadata": {
        "id": "H-Um3in0WjpQ",
        "colab_type": "text"
      },
      "source": [
        "# Loading a dataset using Pandas to test the Decision Tree algorithm"
      ]
    },
    {
      "cell_type": "code",
      "metadata": {
        "id": "0LbtHM0DWs9l",
        "colab_type": "code",
        "colab": {}
      },
      "source": [
        "# np.random.seed(4563)\n",
        "data = pd.read_csv(\"data.csv\", header = None , skiprows = 1)\n",
        "dataframe = pd.DataFrame()\n",
        "dataframe = pd.DataFrame(data)\n",
        "Y = dataframe.pop(dataframe.columns[-1])\n",
        "ind = np.random.choice(len(dataframe),len(dataframe)*8//10,replace=False)\n",
        "df = np.asarray(dataframe)\n",
        "label = np.asarray(Y)\n",
        "X_train = df[ind]\n",
        "X_test = np.delete(df,ind,axis = 0)\n",
        "Y_train = label[ind]\n",
        "Y_test = np.delete(label,ind,axis = 0)\n",
        "# train_len = len(x_train)\n",
        "# test_len = len(x_test)\n",
        "# col_len = x_train.shape[1]\n",
        "x_train_norm = (X_train - np.mean(X_train,axis = 0)[np.newaxis,:])/np.std(X_train,axis=0)[np.newaxis,:]\n",
        "x_test_norm = (X_test - np.mean(X_test,axis = 0)[np.newaxis,:])/np.std(X_test,axis=0)[np.newaxis,:]"
      ],
      "execution_count": 0,
      "outputs": []
    },
    {
      "cell_type": "code",
      "metadata": {
        "id": "y5kr74dFW8vR",
        "colab_type": "code",
        "colab": {}
      },
      "source": [
        "Y_train = np.asarray([Y_train])\n",
        "Y_train = np.swapaxes(Y_train,0,1)\n",
        "df = np.append(X_train,Y_train,axis=1)\n"
      ],
      "execution_count": 0,
      "outputs": []
    },
    {
      "cell_type": "markdown",
      "metadata": {
        "id": "hPOpy62FW5Va",
        "colab_type": "text"
      },
      "source": [
        "# Displaying entire decision tree"
      ]
    },
    {
      "cell_type": "code",
      "metadata": {
        "id": "-hskHYMrXFc9",
        "colab_type": "code",
        "colab": {
          "base_uri": "https://localhost:8080/",
          "height": 1000
        },
        "outputId": "9ec3d014-6301-49f4-95d9-89f8ce8e5c45"
      },
      "source": [
        "decisiontree = decisiontree(df)\n",
        "pprint(decisiontree)"
      ],
      "execution_count": 17,
      "outputs": [
        {
          "output_type": "stream",
          "text": [
            "{'7 <= -0.011323000000000014': [{'10 <= -0.11505341999999999': [{'43 <= -1.486075': [11.0,\n",
            "                                                                                     2.0]},\n",
            "                                                                {'6 <= -0.02476538': [{'35 <= -0.010177700000000001': [{'19 <= 1.3915440000000001': [{'23 <= 1.3459480000000001': [{'47 <= -1.4963000000000002': [{'4 <= 6.17855e-06': [2.0,\n",
            "                                                                                                                                                                                                                                        10.0]},\n",
            "                                                                                                                                                                                                                  2.0]},\n",
            "                                                                                                                                                                                   2.0]},\n",
            "                                                                                                                                                                                                                              10.0]}]}]}]}]},\n",
            "                                                                                      {'16 <= 0.001124671': [{'7 <= -0.0140696': [{'9 <= -0.019714799999999998': [{'5 <= -0.0004658734': [{'27 <= -0.005224600000000001': [10.0,\n",
            "                                                                                                                                                                                                                           2.0]},\n",
            "                                                                                                                                                                                          {'6 <= -0.02460478': [{'30 <= -0.0038805000000000003': [{'31 <= -0.00445515': [2.0,\n",
            "                                                                                                                                                                                                                                                                         10.0]},\n",
            "                                                                                                                                                                                                                                                  2.0]},\n",
            "                                                                                                                                                                                                                {'5 <= -9.789200000000003e-05': [{'30 <= -0.0044855': [{'5 <= -0.00010608': [10.0,\n",
            "                                                                                                                                                                                                                                                                                             2.0]},\n",
            "                                                                                                                                                                                                                                                                       2.0]},\n",
            "                                                                                                                                                                                                                                                 2.0]}]}]},\n",
            "                                                                                                                                                                  {'42 <= -1.4969000000000001': [{'23 <= 1.6227': [10.0,\n",
            "                                                                                                                                                                                                                   {'17 <= 0.000884775': [10.0,\n",
            "                                                                                                                                                                                                                                          2.0]}]},\n",
            "                                                                                                                                                                                                 {'31 <= 0.004591790000000001': [2.0,\n",
            "                                                                                                                                                                                                                                 {'18 <= 1.37915': [4.0,\n",
            "                                                                                                                                                                                                                                                    10.0]}]}]}]},\n",
            "                                                                                                                                  {'27 <= 0.0042172': [4.0,\n",
            "                                                                                                                                                       2.0]}]},\n",
            "                                                                                                             {'18 <= 1.309166': [2.0,\n",
            "                                                                                                                                                                                                                                                                                                                                                                                                                                                           2.0]}]},\n",
            "                                                                                                                                                                                                                                                                      10.0]},\n",
            "                                                                                                                                                                                                                                      2.0]}]}]}]}]}]}]}]},\n",
            "                                {'34 <= 0.017910839999999997': [{'1 <= 9.241700000000024e-06': [{'10 <= -0.007926080000000002': [{'7 <= 0.02033388': [{'7 <= 0.0076746': [{'13 <= 0.001361393': [{'4 <= 1.331499999999999e-05': [{'45 <= -1.488796': [{'15 <= 0.0024009955': [{'0 <= 6.235500000000012e-06': [{'27 <= -0.010254799999999897': [{'4 <= 1.1675e-05': [9.0,\n",
            "                                                                                                                                                                                                                                                                                                                                                                    6.0]},\n",
            "                                                                                                                                                                                                                                                                                                                                               {'15 <= 0.0023022550000000004': [9.0,\n",
            "                                                                                                                                                                                                                                                                                                                                                                                {'9 <= -0.034958': [{'26 <= -0.24027500000000002': [9.0,\n",
            "                                                                                                                                                                                                                              7.0]}]}]}]},\n",
            "                                                                                                {'21 <= 1.2929668': [{'6 <= 0.013588320000000004': [{'16 <= 0.0009200201999999999': [{'33 <= -0.0006402459999999988': [{'9 <= -0.006491749999999999': [{'26 <= -2.0973': [6.0,\n",
            "                                                                                                                                                                                                                                                                          9.0]},\n",
            "                                                                                                                                                                                                                                                                                                                                                                        4.0]},\n",
            "                                                                                                                                                                                                                                                                                                                                         4.0]}]},\n",
            "                                                                                                                                                                                                                                                                                    4.0]}]}]},\n",
            "                                                                                                                                                                                               7.0]}]}]}]}]},\n",
            "                                                                {'11 <= 0.06638529999999998': [{'11 <= 0.03281583000000001': [{'6 <= 0.001470540000000001': [{'12 <= 0.00259365': [{'32 <= -0.01761045': [2.0,\n",
            "                                                                                                                                                                                                          9.0]},\n",
            "                                                                                                                              {'33 <= 0.025988999999999998': [4.0,\n",
            "                                                                                                                                                              7.0]}]},\n",
            "                                                                                               {'11 <= 0.06804025000000001': [{'15 <= 0.002201': [7.0,\n",
            "                                                                                                                                                  4.0]},\n",
            "                                                                                                                              {'27 <= 0.021775840000000005': [{'11 <= 0.06972708000000001': [{'46 <= -1.4963': [7.0,\n",
            "                                                                                                                                                                                                                4.0]},\n",
            "                                                                                                                                                                                             7.0]},\n",
            "                                                                                                                                                              4.0]}]}]}]}]}\n"
          ],
          "name": "stdout"
        }
      ]
    },
    {
      "cell_type": "markdown",
      "metadata": {
        "id": "4nocMM0KXWjy",
        "colab_type": "text"
      },
      "source": [
        "# Displaying pruned decision tree"
      ]
    },
    {
      "cell_type": "code",
      "metadata": {
        "id": "N2ct6UcLXZVt",
        "colab_type": "code",
        "colab": {
          "base_uri": "https://localhost:8080/",
          "height": 153
        },
        "outputId": "30a89c7b-7566-42c3-90ba-a9f1428171e8"
      },
      "source": [
        "pruneddecisiontree = decisiontreeprune(df,c = 0, m = 3)\n",
        "pprint(pruneddecisiontree)"
      ],
      "execution_count": 18,
      "outputs": [
        {
          "output_type": "stream",
          "text": [
            "{'35 <= -0.016697399999999998': [{'1 <= 2.1000100000000002e-05': [{'45 <= -1.493956': [2.0,\n",
            "                                                                                       1.0]},\n",
            "                                                                  {'45 <= -1.495666': [2.0,\n",
            "                                                                                       2.0]}]},\n",
            "                                 {'23 <= 2.3243067': [{'10 <= 0.06623110000000001': [1.0,\n",
            "                                                                                     4.0]},\n",
            "                                                      {'47 <= -1.499432': [4.0,\n",
            "                                                                           4.0]}]}]}\n"
          ],
          "name": "stdout"
        }
      ]
    },
    {
      "cell_type": "markdown",
      "metadata": {
        "id": "CDgCq_zqYuD4",
        "colab_type": "text"
      },
      "source": [
        "# Predicting labels for test data using decision tree & displaying calculated Accuracy"
      ]
    },
    {
      "cell_type": "code",
      "metadata": {
        "id": "tDXHOBtMY0Bx",
        "colab_type": "code",
        "colab": {
          "base_uri": "https://localhost:8080/",
          "height": 34
        },
        "outputId": "9df6ca3b-7132-4521-e4a1-024159d3cead"
      },
      "source": [
        "y_pred_dt = predict(X_test,decisiontree)\n",
        "print(\"Accuracy :\",Accuracy(Y_test,y_pred_dt))"
      ],
      "execution_count": 20,
      "outputs": [
        {
          "output_type": "stream",
          "text": [
            "Accuracy : 0.981201171875\n"
          ],
          "name": "stdout"
        }
      ]
    },
    {
      "cell_type": "markdown",
      "metadata": {
        "id": "7Ok8sJyzY0Mt",
        "colab_type": "text"
      },
      "source": [
        "# Predicting labels for test data using pruned decision tree & displaying calculated Accuracy"
      ]
    },
    {
      "cell_type": "code",
      "metadata": {
        "id": "ieiZLa2mY3XA",
        "colab_type": "code",
        "colab": {
          "base_uri": "https://localhost:8080/",
          "height": 34
        },
        "outputId": "868053ee-0616-474d-a731-3ae4ab8ed9c1"
      },
      "source": [
        "y_pred_dt_pruned = predict(X_test,pruneddecisiontree)\n",
        "print(\"Accuracy :\",Accuracy(Y_test,y_pred_dt_pruned))\n"
      ],
      "execution_count": 21,
      "outputs": [
        {
          "output_type": "stream",
          "text": [
            "Accuracy : 0.1134033203125\n"
          ],
          "name": "stdout"
        }
      ]
    },
    {
      "cell_type": "markdown",
      "metadata": {
        "id": "U9bND2yYZjfN",
        "colab_type": "text"
      },
      "source": [
        "*********** The end ***\n",
        "\n",
        "..\n",
        "\n",
        ".."
      ]
    }
  ]
}
